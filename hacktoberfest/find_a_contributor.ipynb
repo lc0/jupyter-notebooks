{
 "cells": [
  {
   "cell_type": "markdown",
   "metadata": {},
   "source": [
    "<table align=\"center\">\n",
    "  <td>\n",
    "    <a target=\"_blank\" href=\"https://colab.research.google.com/github/lc0/jupyter-notebooks/blob/master/hacktoberfest/find_a_contributor.ipynb\"><img src=\"https://www.tensorflow.org/images/colab_logo_32px.png\" />Run in Google Colab</a>\n",
    "  </td>\n",
    "  <td>\n",
    "    <a target=\"_blank\" href=\"https://github.com/lc0/jupyter-notebooks/blob/master/hacktoberfest/find_a_contributor.ipynb\"><img src=\"https://www.tensorflow.org/images/GitHub-Mark-32px.png\" />View source on GitHub</a>\n",
    "  </td>\n",
    "</table>"
   ]
  },
  {
   "cell_type": "code",
   "execution_count": 1,
   "metadata": {},
   "outputs": [],
   "source": [
    "import requests"
   ]
  },
  {
   "cell_type": "code",
   "execution_count": 2,
   "metadata": {},
   "outputs": [],
   "source": [
    "# TODO: validate query before sending to API\n",
    "\n",
    "github_org_query = \"\"\"\n",
    "query getMembers($org_name: String!, $limit: Int!, $cursor: String) {\n",
    "  organization(login: $org_name) {\n",
    "    membersWithRole(first: $limit, after: $cursor) {\n",
    "      totalCount\n",
    "      edges {\n",
    "        cursor\n",
    "        node {\n",
    "          name\n",
    "          login\n",
    "          avatarUrl\n",
    "          location\n",
    "        }\n",
    "      }\n",
    "    }\n",
    "  }\n",
    "}\n",
    "\"\"\"\n",
    "\n",
    "# TODO: validate the generator as well\n",
    "gq_generator = lambda result: (member for member in result['data']['organization']['membersWithRole']['edges'])"
   ]
  },
  {
   "cell_type": "markdown",
   "metadata": {},
   "source": [
    "The query itself could be debugged at [Github's query explorer](https://developer.github.com/v4/explorer/), that supports autocomplete and allows to iterate on query pretty quickly"
   ]
  },
  {
   "cell_type": "code",
   "execution_count": 3,
   "metadata": {},
   "outputs": [],
   "source": [
    "import os\n",
    "\n",
    "from typing import Dict\n",
    "\n",
    "class GithubAPI:\n",
    "    _github_api_url = 'https://api.github.com/graphql'\n",
    "    \n",
    "    def __init__(self, token=None):\n",
    "        if not token:\n",
    "            try:\n",
    "                token = os.environ['GITHUB_TOKEN']\n",
    "            except KeyError:\n",
    "                raise ValueError(\"Github token expected. \"\n",
    "                                 \"Please pass as an argument or provide in env variable GITHUB_TOKEN.\")\n",
    "\n",
    "        self._token = token\n",
    "        self._headers = {\"Authorization\": f\"token {self._token}\"}\n",
    "            \n",
    "            \n",
    "    def _query_api(self, query: str, variables: Dict[str, str]):\n",
    "        request = requests.post(self._github_api_url, \n",
    "                                json={'query': query, 'variables': variables}, \n",
    "                                headers=self._headers)\n",
    "        if request.status_code == 200:\n",
    "            return request.json()\n",
    "        else:\n",
    "            raise Exception(f\"Query failed with status code {request.status_code}: {request.json()}\")\n",
    "            \n",
    "    def query(self, query: str, variables: Dict[str, str], generator):\n",
    "        cursor = None\n",
    "        \n",
    "        # TODO: add tqdn\n",
    "        result_list = []\n",
    "        while True:\n",
    "            if cursor:\n",
    "                if 'cursor' in variables and variables['cursor'] == cursor:\n",
    "                    break\n",
    "                variables['cursor'] = cursor\n",
    "                \n",
    "            results = self._query_api(query, variables)\n",
    "            \n",
    "            for item in generator(results):\n",
    "                result_list.append(item['node'])\n",
    "                cursor = item['cursor']\n",
    "            \n",
    "        return result_list"
   ]
  },
  {
   "cell_type": "markdown",
   "metadata": {},
   "source": [
    "In order to get a personal access token, please go to the page: [Personal access tokens](https://github.com/settings/tokens).\n",
    "\n",
    "For this application, I only put `read:org`.\n",
    "\n",
    "Now we just need to set our token to env with \n",
    "```\n",
    "os.environ['GITHUB_TOKEN'] = 'YOUR-TOKEN'\n",
    "```"
   ]
  },
  {
   "cell_type": "code",
   "execution_count": 4,
   "metadata": {},
   "outputs": [
    {
     "name": "stdout",
     "output_type": "stream",
     "text": [
      "Please enter your Github token: ········\n"
     ]
    }
   ],
   "source": [
    "from getpass import getpass\n",
    "\n",
    "token = getpass('Please enter your Github token: ')\n",
    "\n",
    "github_api = GithubAPI(token)"
   ]
  },
  {
   "cell_type": "code",
   "execution_count": 5,
   "metadata": {},
   "outputs": [
    {
     "data": {
      "text/plain": [
       "{'data': {'organization': {'membersWithRole': {'totalCount': 188,\n",
       "    'edges': [{'cursor': 'Y3Vyc29yOnYyOpHNb0o=',\n",
       "      'node': {'name': 'Jeff',\n",
       "       'login': 'Agent007',\n",
       "       'avatarUrl': 'https://avatars2.githubusercontent.com/u/28490?v=4',\n",
       "       'location': 'San Francisco Bay Area'}},\n",
       "     {'cursor': 'Y3Vyc29yOnYyOpHNp-w=',\n",
       "      'node': {'name': 'Swaroop C H',\n",
       "       'login': 'swaroopch',\n",
       "       'avatarUrl': 'https://avatars0.githubusercontent.com/u/42988?v=4',\n",
       "       'location': 'San Francisco, USA'}},\n",
       "     {'cursor': 'Y3Vyc29yOnYyOpHNqnE=',\n",
       "      'node': {'name': 'Nate Gadzhibalaev',\n",
       "       'login': 'xnutsive',\n",
       "       'avatarUrl': 'https://avatars1.githubusercontent.com/u/43633?v=4',\n",
       "       'location': 'San Francisco'}},\n",
       "     {'cursor': 'Y3Vyc29yOnYyOpHOAAHFmA==',\n",
       "      'node': {'name': 'Kevin Mader',\n",
       "       'login': 'kmader',\n",
       "       'avatarUrl': 'https://avatars2.githubusercontent.com/u/116120?v=4',\n",
       "       'location': 'Zurich, Switzerland'}},\n",
       "     {'cursor': 'Y3Vyc29yOnYyOpHOAAK3sw==',\n",
       "      'node': {'name': 'Kory',\n",
       "       'login': 'korymath',\n",
       "       'avatarUrl': 'https://avatars0.githubusercontent.com/u/178099?v=4',\n",
       "       'location': 'Edmonton, Alberta, Canada'}}]}}}}"
      ]
     },
     "execution_count": 5,
     "metadata": {},
     "output_type": "execute_result"
    }
   ],
   "source": [
    "params = {\n",
    "    'org_name': 'openmined',\n",
    "    'limit': 5\n",
    "}\n",
    "results = github_api._query_api(github_org_query, params)\n",
    "results"
   ]
  },
  {
   "cell_type": "markdown",
   "metadata": {},
   "source": [
    "## Iterate entire result\n",
    "\n",
    "First, since graphql does not support flattering results, we added a bit hacky generator `gq_generator`"
   ]
  },
  {
   "cell_type": "code",
   "execution_count": 6,
   "metadata": {},
   "outputs": [
    {
     "name": "stdout",
     "output_type": "stream",
     "text": [
      "{'name': 'Jeff', 'login': 'Agent007', 'avatarUrl': 'https://avatars2.githubusercontent.com/u/28490?v=4', 'location': 'San Francisco Bay Area'}\n",
      "{'name': 'Swaroop C H', 'login': 'swaroopch', 'avatarUrl': 'https://avatars0.githubusercontent.com/u/42988?v=4', 'location': 'San Francisco, USA'}\n",
      "{'name': 'Nate Gadzhibalaev', 'login': 'xnutsive', 'avatarUrl': 'https://avatars1.githubusercontent.com/u/43633?v=4', 'location': 'San Francisco'}\n",
      "{'name': 'Kevin Mader', 'login': 'kmader', 'avatarUrl': 'https://avatars2.githubusercontent.com/u/116120?v=4', 'location': 'Zurich, Switzerland'}\n",
      "{'name': 'Kory', 'login': 'korymath', 'avatarUrl': 'https://avatars0.githubusercontent.com/u/178099?v=4', 'location': 'Edmonton, Alberta, Canada'}\n"
     ]
    }
   ],
   "source": [
    "for item in gq_generator(results):\n",
    "    print(item['node'])"
   ]
  },
  {
   "cell_type": "markdown",
   "metadata": {},
   "source": [
    "## Query organizations\n",
    "\n",
    "Shortcut if you are only interested to get data, not in me building up to a solution."
   ]
  },
  {
   "cell_type": "code",
   "execution_count": 7,
   "metadata": {
    "scrolled": false
   },
   "outputs": [],
   "source": [
    "ORGANIZATION = 'openmined'\n",
    "\n",
    "params = {\n",
    "    'org_name': ORGANIZATION,\n",
    "    'limit': 50\n",
    "}\n",
    "\n",
    "try:\n",
    "    github_api = GithubAPI(token)\n",
    "except NameError:\n",
    "    token = getpass('Please enter your Github token: ')\n",
    "    github_api = GithubAPI(token)\n",
    "\n",
    "\n",
    "members = github_api.query(github_org_query, params, gq_generator)"
   ]
  },
  {
   "cell_type": "code",
   "execution_count": 8,
   "metadata": {},
   "outputs": [
    {
     "name": "stdout",
     "output_type": "stream",
     "text": [
      "{'name': 'Sergii Khomenko', 'login': 'lc0', 'avatarUrl': 'https://avatars1.githubusercontent.com/u/775466?v=4', 'location': 'Munich'}\n",
      "{'name': 'Axel Hodler', 'login': 'axelhodler', 'avatarUrl': 'https://avatars1.githubusercontent.com/u/1504952?v=4', 'location': 'Stuttgart, Germany'}\n",
      "{'name': 'Andreas Offenhaeuser', 'login': 'anoff', 'avatarUrl': 'https://avatars1.githubusercontent.com/u/7142618?v=4', 'location': 'Germany, Stuttgart'}\n",
      "{'name': 'Stefan Heidekrüger', 'login': 'heidekrueger', 'avatarUrl': 'https://avatars1.githubusercontent.com/u/9562632?v=4', 'location': 'Munich, Germany'}\n",
      "{'name': 'Agustín Vargas Toro', 'login': 'Fustincho', 'avatarUrl': 'https://avatars2.githubusercontent.com/u/11200279?v=4', 'location': 'Germany'}\n"
     ]
    }
   ],
   "source": [
    "for member in members:\n",
    "    if member['location'] and any(candidate in member['location'].lower() for candidate in ['germany', 'munich']):\n",
    "        print(member)"
   ]
  },
  {
   "cell_type": "code",
   "execution_count": 9,
   "metadata": {
    "scrolled": false
   },
   "outputs": [
    {
     "data": {
      "text/html": [
       "\n",
       "<a href='https://github.com/lc0'><img width=\"83\" src='https://avatars1.githubusercontent.com/u/775466?v=4'></a> \n",
       "<a href='https://github.com/lc0?tab=overview&from=2018-01-01&to=2019-10-31&org=openmined'>Contributions</a>\n"
      ],
      "text/plain": [
       "<IPython.core.display.HTML object>"
      ]
     },
     "metadata": {},
     "output_type": "display_data"
    },
    {
     "data": {
      "text/html": [
       "\n",
       "<a href='https://github.com/axelhodler'><img width=\"83\" src='https://avatars1.githubusercontent.com/u/1504952?v=4'></a> \n",
       "<a href='https://github.com/axelhodler?tab=overview&from=2018-01-01&to=2019-10-31&org=openmined'>Contributions</a>\n"
      ],
      "text/plain": [
       "<IPython.core.display.HTML object>"
      ]
     },
     "metadata": {},
     "output_type": "display_data"
    },
    {
     "data": {
      "text/html": [
       "\n",
       "<a href='https://github.com/anoff'><img width=\"83\" src='https://avatars1.githubusercontent.com/u/7142618?v=4'></a> \n",
       "<a href='https://github.com/anoff?tab=overview&from=2018-01-01&to=2019-10-31&org=openmined'>Contributions</a>\n"
      ],
      "text/plain": [
       "<IPython.core.display.HTML object>"
      ]
     },
     "metadata": {},
     "output_type": "display_data"
    },
    {
     "data": {
      "text/html": [
       "\n",
       "<a href='https://github.com/heidekrueger'><img width=\"83\" src='https://avatars1.githubusercontent.com/u/9562632?v=4'></a> \n",
       "<a href='https://github.com/heidekrueger?tab=overview&from=2018-01-01&to=2019-10-31&org=openmined'>Contributions</a>\n"
      ],
      "text/plain": [
       "<IPython.core.display.HTML object>"
      ]
     },
     "metadata": {},
     "output_type": "display_data"
    },
    {
     "data": {
      "text/html": [
       "\n",
       "<a href='https://github.com/Fustincho'><img width=\"83\" src='https://avatars2.githubusercontent.com/u/11200279?v=4'></a> \n",
       "<a href='https://github.com/Fustincho?tab=overview&from=2018-01-01&to=2019-10-31&org=openmined'>Contributions</a>\n"
      ],
      "text/plain": [
       "<IPython.core.display.HTML object>"
      ]
     },
     "metadata": {},
     "output_type": "display_data"
    }
   ],
   "source": [
    "from IPython.core.display import display, HTML\n",
    "\n",
    "for member in members:\n",
    "    if member['location'] and any(candidate in member['location'].lower() for candidate in ['germany', 'munich']):\n",
    "        template = HTML(f\"\"\"\n",
    "<a href='https://github.com/{member['login']}'><img width=\"83\" src='{member['avatarUrl']}'></a> \n",
    "<a href='https://github.com/{member['login']}?tab=overview&from=2018-01-01&to=2019-10-31&org={ORGANIZATION}'>Contributions</a>\n",
    "\"\"\")\n",
    "        display(template)"
   ]
  }
 ],
 "metadata": {
  "kernelspec": {
   "display_name": "Python 3",
   "language": "python",
   "name": "python3"
  },
  "language_info": {
   "codemirror_mode": {
    "name": "ipython",
    "version": 3
   },
   "file_extension": ".py",
   "mimetype": "text/x-python",
   "name": "python",
   "nbconvert_exporter": "python",
   "pygments_lexer": "ipython3",
   "version": "3.7.4"
  }
 },
 "nbformat": 4,
 "nbformat_minor": 2
}
