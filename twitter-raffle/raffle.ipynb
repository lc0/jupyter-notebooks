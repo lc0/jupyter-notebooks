{
 "cells": [
  {
   "cell_type": "code",
   "execution_count": 198,
   "metadata": {
    "scrolled": false,
    "slideshow": {
     "slide_type": "skip"
    }
   },
   "outputs": [
    {
     "name": "stdout",
     "output_type": "stream",
     "text": [
      "Requirement already satisfied: twitterscraper in ./venv/lib/python2.7/site-packages\n",
      "Requirement already satisfied: bs4 in ./venv/lib/python2.7/site-packages (from twitterscraper)\n",
      "Requirement already satisfied: requests in ./venv/lib/python2.7/site-packages (from twitterscraper)\n",
      "Requirement already satisfied: lxml in ./venv/lib/python2.7/site-packages (from twitterscraper)\n",
      "Requirement already satisfied: fake-useragent in ./venv/lib/python2.7/site-packages (from twitterscraper)\n",
      "Requirement already satisfied: coala-utils~=0.5.0 in ./venv/lib/python2.7/site-packages (from twitterscraper)\n",
      "Requirement already satisfied: beautifulsoup4 in ./venv/lib/python2.7/site-packages (from bs4->twitterscraper)\n",
      "Requirement already satisfied: certifi>=2017.4.17 in ./venv/lib/python2.7/site-packages (from requests->twitterscraper)\n",
      "Requirement already satisfied: chardet<3.1.0,>=3.0.2 in ./venv/lib/python2.7/site-packages (from requests->twitterscraper)\n",
      "Requirement already satisfied: idna<2.7,>=2.5 in ./venv/lib/python2.7/site-packages (from requests->twitterscraper)\n",
      "Requirement already satisfied: urllib3<1.23,>=1.21.1 in ./venv/lib/python2.7/site-packages (from requests->twitterscraper)\n"
     ]
    }
   ],
   "source": [
    "!pip install twitterscraper"
   ]
  },
  {
   "cell_type": "code",
   "execution_count": 199,
   "metadata": {
    "scrolled": false,
    "slideshow": {
     "slide_type": "skip"
    }
   },
   "outputs": [],
   "source": [
    "from twitterscraper import query_tweets\n",
    "\n",
    "from IPython.core.display import HTML, display\n",
    "\n",
    "from __future__ import print_function\n",
    "\n",
    "def gen_link(tweet):\n",
    "    return \"https://twitter.com/{user}/status/{id}\".format(user=tweet.user, id=tweet.id)\n",
    "\n",
    "def get_embedd(user, tweet_id):\n",
    "    url = 'https://publish.twitter.com/oembed?url=https://twitter.com/{user}/status/{tweet_id}'.format(user=user, tweet_id=tweet_id)\n",
    "    response = requests.get(url)\n",
    "    \n",
    "    return response.json()\n",
    "\n",
    "def print_tweets(tweets, top_n, starting=None, embedds=True):\n",
    "    \n",
    "    end = top_n\n",
    "    if starting:\n",
    "        end += starting\n",
    "        \n",
    "    for tweet in tweets[starting:end]:\n",
    "        user=tweet['user']\n",
    "        \n",
    "        if embedds:\n",
    "            tweet_id = tweet['tweet_id']\n",
    "            embedd = get_embedd(user, tweet_id)\n",
    "            \n",
    "            display(HTML(embedd['html']))\n",
    "        \n",
    "        else:\n",
    "            print(\"{score} - {link} - {user}:\\n {text}\\n\\n\".format(\n",
    "                  score=tweet['score'],\n",
    "                  text=tweet['text'],\n",
    "                  user=tweet['user'],\n",
    "                  link=tweet['link'],))\n",
    "    "
   ]
  },
  {
   "cell_type": "markdown",
   "metadata": {
    "slideshow": {
     "slide_type": "slide"
    }
   },
   "source": [
    "<blockquote class=\"twitter-tweet\" data-lang=\"en\"><p lang=\"en\" dir=\"ltr\"><a href=\"https://twitter.com/hashtag/devfestbayern?src=hash&amp;ref_src=twsrc%5Etfw\">#devfestbayern</a> If you are interested in AR, come to my talk about Google Tango and arcore at 12:50. <a href=\"https://t.co/r4D2fT6LHc\">pic.twitter.com/r4D2fT6LHc</a></p>&mdash; Christian Dziuba (@CodeMonkey137) <a href=\"https://twitter.com/CodeMonkey137/status/934351918767525888?ref_src=twsrc%5Etfw\">November 25, 2017</a></blockquote>\n",
    "<script async src=\"https://platform.twitter.com/widgets.js\" charset=\"utf-8\"></script>\n"
   ]
  },
  {
   "cell_type": "markdown",
   "metadata": {
    "slideshow": {
     "slide_type": "subslide"
    }
   },
   "source": [
    "![fullscreen](http://www.clker.com/cliparts/e/1/3/7/13705672721066501774best_tweet_award-1.jpg)"
   ]
  },
  {
   "cell_type": "markdown",
   "metadata": {
    "slideshow": {
     "slide_type": "subslide"
    }
   },
   "source": [
    "![fullscreen](https://cdn.vox-cdn.com/thumbor/bgyyieKm_M--aIB9CGR4x45USiE=/0x66:1913x1142/1600x900/cdn.vox-cdn.com/uploads/chorus_image/image/49615975/google-home.0.0.jpeg)"
   ]
  },
  {
   "cell_type": "markdown",
   "metadata": {
    "slideshow": {
     "slide_type": "slide"
    }
   },
   "source": [
    "## Getting data"
   ]
  },
  {
   "cell_type": "markdown",
   "metadata": {
    "slideshow": {
     "slide_type": "fragment"
    }
   },
   "source": [
    "![fullscreen](https://svbtleusercontent.com/m2caotqambharw.jpg)"
   ]
  },
  {
   "cell_type": "code",
   "execution_count": 200,
   "metadata": {
    "scrolled": false,
    "slideshow": {
     "slide_type": "subslide"
    }
   },
   "outputs": [],
   "source": [
    "tweets = query_tweets('#devfestbayern')"
   ]
  },
  {
   "cell_type": "code",
   "execution_count": 201,
   "metadata": {
    "scrolled": false,
    "slideshow": {
     "slide_type": "fragment"
    }
   },
   "outputs": [
    {
     "data": {
      "text/plain": [
       "211"
      ]
     },
     "execution_count": 201,
     "metadata": {},
     "output_type": "execute_result"
    }
   ],
   "source": [
    "len(tweets)"
   ]
  },
  {
   "cell_type": "code",
   "execution_count": 202,
   "metadata": {
    "scrolled": false,
    "slideshow": {
     "slide_type": "skip"
    }
   },
   "outputs": [],
   "source": [
    "processed = []\n",
    "\n",
    "def calculate_score(tweet):\n",
    "    return int(tweet.retweets) + int(tweet.likes)\n",
    "\n",
    "for tweet in tweets:\n",
    "        \n",
    "    processed.append({'text': tweet.text.encode('utf-8'),\n",
    "                      'score': calculate_score(tweet),\n",
    "                      'user': tweet.user,\n",
    "                      'tweet_id': tweet.id,\n",
    "                      'link': gen_link(tweet)\n",
    "                     })"
   ]
  },
  {
   "cell_type": "code",
   "execution_count": 203,
   "metadata": {
    "scrolled": false,
    "slideshow": {
     "slide_type": "fragment"
    }
   },
   "outputs": [],
   "source": [
    "sorted_tweets = sorted(processed, key=lambda x: x['score'], reverse=True)"
   ]
  },
  {
   "cell_type": "code",
   "execution_count": 204,
   "metadata": {
    "scrolled": false,
    "slideshow": {
     "slide_type": "subslide"
    }
   },
   "outputs": [
    {
     "name": "stdout",
     "output_type": "stream",
     "text": [
      "37 - https://twitter.com/nixsj/status/934463833787240449 - nixsj:\n",
      " Watch\n",
      "http://goo.gl/uf4vs5 \n",
      "#DevFestBayernِ\n",
      "#FCCVFLِ\n",
      "#hoertdiesignaleِ\n",
      "#le2511ِ\n",
      "#FCBJHVِ\n",
      "#BMGFCBِ\n",
      "#RIPKABAِ\n",
      "#TheBigIssueِ\n",
      "#bcsyiِ\n",
      "#Bar4ِ \n",
      "NEW MUSICِ \n",
      "#SConcert2017ِ \n",
      "Emmerson Mnangagwaِ \n",
      "King Promiseِ \n",
      "Accraِ \n",
      "Official Videoِ \n",
      "#JoyNewsِ\n",
      "\n",
      "\n",
      "37 - https://twitter.com/juarezpaf/status/934491017398636544 - juarezpaf:\n",
      " The day I had the opportunity to talk about @Firebase at two conferences in different cities. #devfest17 #devfestbayern #devfesthh pic.twitter.com/qrVrUQt3YJ\n",
      "\n",
      "\n",
      "34 - https://twitter.com/welsinga/status/934338560567775232 - welsinga:\n",
      " #DevFestBayern #GDG #Bavarian  style by @lehtimaekipic.twitter.com/ihmSNNWygd\n",
      "\n",
      "\n",
      "32 - https://twitter.com/dezert1394/status/934466738598621184 - dezert1394:\n",
      " watch\n",
      "https://goo.gl/PvVLmi \n",
      "#BAALِ\n",
      "#SVBBFCِ\n",
      "#gewaltgegenfrauenِ\n",
      "#dlr17ِ\n",
      "#Eggesteinِ\n",
      "#utag17ِ\n",
      "#SVWWِ\n",
      "#FSVWIEِ\n",
      "#SVWRWEِ\n",
      "#DevFestBayernِ\n",
      "#FCCVFLِ\n",
      "#RIPKABAِ\n",
      "#TheBigIssueِ\n",
      "#bcsyiِ\n",
      "#Bar4ِ \n",
      "NEW MUSICِ \n",
      "#SConcert2017ِ \n",
      "Emmerson Mnangagwaِ\n",
      "\n",
      "\n",
      "31 - https://twitter.com/fssle8/status/934510658820935680 - fssle8:\n",
      " Watch\n",
      "http://goo.gl/uf4vs5 \n",
      "#necjajِ\n",
      "#rtl7dartsِ\n",
      "#sitNLِ\n",
      "#WCUTِ\n",
      "#camdboِ\n",
      "#forGAEِ\n",
      "#tweededivisieِ\n",
      "#weekendِ\n",
      "#ajarodِ\n",
      "#kozachِ\n",
      "#jvomagِ\n",
      "#gencsvِ\n",
      "#NST_POِ\n",
      "#mvvhelِ\n",
      "#rtllnِ\n",
      "#devFestBayernِ\n",
      "#spiharِ\n",
      "#rvvnooِ\n",
      "#hoesteِ\n",
      "#OlimpikShakhtarِ\n",
      "\n",
      "\n"
     ]
    }
   ],
   "source": [
    "print_tweets(sorted_tweets, 5, embedds=False)"
   ]
  },
  {
   "cell_type": "code",
   "execution_count": 205,
   "metadata": {
    "scrolled": false,
    "slideshow": {
     "slide_type": "skip"
    }
   },
   "outputs": [
    {
     "data": {
      "text/html": [
       "<blockquote class=\"twitter-tweet\"><p lang=\"en\" dir=\"ltr\">Watch<a href=\"https://t.co/wW0FfNKC8t\">https://t.co/wW0FfNKC8t</a><a href=\"https://twitter.com/hashtag/DevFestBayern%D9%90?src=hash&amp;ref_src=twsrc%5Etfw\">#DevFestBayernِ</a> <a href=\"https://twitter.com/hashtag/FCCVFL%D9%90?src=hash&amp;ref_src=twsrc%5Etfw\">#FCCVFLِ</a> <a href=\"https://twitter.com/hashtag/hoertdiesignale%D9%90?src=hash&amp;ref_src=twsrc%5Etfw\">#hoertdiesignaleِ</a> <a href=\"https://twitter.com/hashtag/le2511%D9%90?src=hash&amp;ref_src=twsrc%5Etfw\">#le2511ِ</a> <a href=\"https://twitter.com/hashtag/FCBJHV%D9%90?src=hash&amp;ref_src=twsrc%5Etfw\">#FCBJHVِ</a> <a href=\"https://twitter.com/hashtag/BMGFCB%D9%90?src=hash&amp;ref_src=twsrc%5Etfw\">#BMGFCBِ</a> <a href=\"https://twitter.com/hashtag/RIPKABA%D9%90?src=hash&amp;ref_src=twsrc%5Etfw\">#RIPKABAِ</a> <a href=\"https://twitter.com/hashtag/TheBigIssue%D9%90?src=hash&amp;ref_src=twsrc%5Etfw\">#TheBigIssueِ</a> <a href=\"https://twitter.com/hashtag/bcsyi%D9%90?src=hash&amp;ref_src=twsrc%5Etfw\">#bcsyiِ</a> <a href=\"https://twitter.com/hashtag/Bar4%D9%90?src=hash&amp;ref_src=twsrc%5Etfw\">#Bar4ِ</a> <br>NEW MUSICِ <a href=\"https://twitter.com/hashtag/SConcert2017%D9%90?src=hash&amp;ref_src=twsrc%5Etfw\">#SConcert2017ِ</a> <br>Emmerson Mnangagwaِ <br>King Promiseِ <br>Accraِ <br>Official Videoِ <a href=\"https://twitter.com/hashtag/JoyNews%D9%90?src=hash&amp;ref_src=twsrc%5Etfw\">#JoyNewsِ</a></p>&mdash; niccky (@nixsj) <a href=\"https://twitter.com/nixsj/status/934463833787240449?ref_src=twsrc%5Etfw\">November 25, 2017</a></blockquote>\n",
       "<script async src=\"https://platform.twitter.com/widgets.js\" charset=\"utf-8\"></script>\n"
      ],
      "text/plain": [
       "<IPython.core.display.HTML object>"
      ]
     },
     "metadata": {},
     "output_type": "display_data"
    },
    {
     "data": {
      "text/html": [
       "<blockquote class=\"twitter-tweet\"><p lang=\"en\" dir=\"ltr\">The day I had the opportunity to talk about <a href=\"https://twitter.com/Firebase?ref_src=twsrc%5Etfw\">@Firebase</a> at two conferences in different cities. <a href=\"https://twitter.com/hashtag/devfest17?src=hash&amp;ref_src=twsrc%5Etfw\">#devfest17</a> <a href=\"https://twitter.com/hashtag/devfestbayern?src=hash&amp;ref_src=twsrc%5Etfw\">#devfestbayern</a> <a href=\"https://twitter.com/hashtag/devfesthh?src=hash&amp;ref_src=twsrc%5Etfw\">#devfesthh</a> 🎒🗺️🔥 <a href=\"https://t.co/qrVrUQt3YJ\">pic.twitter.com/qrVrUQt3YJ</a></p>&mdash; Juarez Filho #DevFestHH 🇩🇪 (@juarezpaf) <a href=\"https://twitter.com/juarezpaf/status/934491017398636544?ref_src=twsrc%5Etfw\">November 25, 2017</a></blockquote>\n",
       "<script async src=\"https://platform.twitter.com/widgets.js\" charset=\"utf-8\"></script>\n"
      ],
      "text/plain": [
       "<IPython.core.display.HTML object>"
      ]
     },
     "metadata": {},
     "output_type": "display_data"
    },
    {
     "data": {
      "text/html": [
       "<blockquote class=\"twitter-tweet\"><p lang=\"en\" dir=\"ltr\"><a href=\"https://twitter.com/hashtag/DevFestBayern?src=hash&amp;ref_src=twsrc%5Etfw\">#DevFestBayern</a> <a href=\"https://twitter.com/hashtag/GDG?src=hash&amp;ref_src=twsrc%5Etfw\">#GDG</a> <a href=\"https://twitter.com/hashtag/Bavarian?src=hash&amp;ref_src=twsrc%5Etfw\">#Bavarian</a>  style by <a href=\"https://twitter.com/lehtimaeki?ref_src=twsrc%5Etfw\">@lehtimaeki</a> <a href=\"https://t.co/ihmSNNWygd\">pic.twitter.com/ihmSNNWygd</a></p>&mdash; Wiebe Elsinga (@welsinga) <a href=\"https://twitter.com/welsinga/status/934338560567775232?ref_src=twsrc%5Etfw\">November 25, 2017</a></blockquote>\n",
       "<script async src=\"https://platform.twitter.com/widgets.js\" charset=\"utf-8\"></script>\n"
      ],
      "text/plain": [
       "<IPython.core.display.HTML object>"
      ]
     },
     "metadata": {},
     "output_type": "display_data"
    },
    {
     "data": {
      "text/html": [
       "<blockquote class=\"twitter-tweet\"><p lang=\"en\" dir=\"ltr\">watch<a href=\"https://t.co/LzpegIsAC4\">https://t.co/LzpegIsAC4</a><a href=\"https://twitter.com/hashtag/BAAL%D9%90?src=hash&amp;ref_src=twsrc%5Etfw\">#BAALِ</a> <a href=\"https://twitter.com/hashtag/SVBBFC%D9%90?src=hash&amp;ref_src=twsrc%5Etfw\">#SVBBFCِ</a> <a href=\"https://twitter.com/hashtag/gewaltgegenfrauen%D9%90?src=hash&amp;ref_src=twsrc%5Etfw\">#gewaltgegenfrauenِ</a> <a href=\"https://twitter.com/hashtag/dlr17%D9%90?src=hash&amp;ref_src=twsrc%5Etfw\">#dlr17ِ</a> <a href=\"https://twitter.com/hashtag/Eggestein%D9%90?src=hash&amp;ref_src=twsrc%5Etfw\">#Eggesteinِ</a> <a href=\"https://twitter.com/hashtag/utag17%D9%90?src=hash&amp;ref_src=twsrc%5Etfw\">#utag17ِ</a> <a href=\"https://twitter.com/hashtag/SVWW%D9%90?src=hash&amp;ref_src=twsrc%5Etfw\">#SVWWِ</a> <a href=\"https://twitter.com/hashtag/FSVWIE%D9%90?src=hash&amp;ref_src=twsrc%5Etfw\">#FSVWIEِ</a> <a href=\"https://twitter.com/hashtag/SVWRWE%D9%90?src=hash&amp;ref_src=twsrc%5Etfw\">#SVWRWEِ</a> <a href=\"https://twitter.com/hashtag/DevFestBayern%D9%90?src=hash&amp;ref_src=twsrc%5Etfw\">#DevFestBayernِ</a> <a href=\"https://twitter.com/hashtag/FCCVFL%D9%90?src=hash&amp;ref_src=twsrc%5Etfw\">#FCCVFLِ</a> <a href=\"https://twitter.com/hashtag/RIPKABA%D9%90?src=hash&amp;ref_src=twsrc%5Etfw\">#RIPKABAِ</a> <a href=\"https://twitter.com/hashtag/TheBigIssue%D9%90?src=hash&amp;ref_src=twsrc%5Etfw\">#TheBigIssueِ</a> <a href=\"https://twitter.com/hashtag/bcsyi%D9%90?src=hash&amp;ref_src=twsrc%5Etfw\">#bcsyiِ</a> <a href=\"https://twitter.com/hashtag/Bar4%D9%90?src=hash&amp;ref_src=twsrc%5Etfw\">#Bar4ِ</a> <br>NEW MUSICِ <a href=\"https://twitter.com/hashtag/SConcert2017%D9%90?src=hash&amp;ref_src=twsrc%5Etfw\">#SConcert2017ِ</a> <br>Emmerson Mnangagwaِ</p>&mdash; mshary almgebal (@dezert1394) <a href=\"https://twitter.com/dezert1394/status/934466738598621184?ref_src=twsrc%5Etfw\">November 25, 2017</a></blockquote>\n",
       "<script async src=\"https://platform.twitter.com/widgets.js\" charset=\"utf-8\"></script>\n"
      ],
      "text/plain": [
       "<IPython.core.display.HTML object>"
      ]
     },
     "metadata": {},
     "output_type": "display_data"
    },
    {
     "data": {
      "text/html": [
       "<blockquote class=\"twitter-tweet\"><p lang=\"en\" dir=\"ltr\">Watch<a href=\"https://t.co/dXMkValLh4\">https://t.co/dXMkValLh4</a><a href=\"https://twitter.com/hashtag/necjaj%D9%90?src=hash&amp;ref_src=twsrc%5Etfw\">#necjajِ</a> <a href=\"https://twitter.com/hashtag/rtl7darts%D9%90?src=hash&amp;ref_src=twsrc%5Etfw\">#rtl7dartsِ</a> <a href=\"https://twitter.com/hashtag/sitNL%D9%90?src=hash&amp;ref_src=twsrc%5Etfw\">#sitNLِ</a> <a href=\"https://twitter.com/hashtag/WCUT%D9%90?src=hash&amp;ref_src=twsrc%5Etfw\">#WCUTِ</a> <a href=\"https://twitter.com/hashtag/camdbo%D9%90?src=hash&amp;ref_src=twsrc%5Etfw\">#camdboِ</a> <a href=\"https://twitter.com/hashtag/forGAE%D9%90?src=hash&amp;ref_src=twsrc%5Etfw\">#forGAEِ</a> <a href=\"https://twitter.com/hashtag/tweededivisie%D9%90?src=hash&amp;ref_src=twsrc%5Etfw\">#tweededivisieِ</a> <a href=\"https://twitter.com/hashtag/weekend%D9%90?src=hash&amp;ref_src=twsrc%5Etfw\">#weekendِ</a> <a href=\"https://twitter.com/hashtag/ajarod%D9%90?src=hash&amp;ref_src=twsrc%5Etfw\">#ajarodِ</a> <a href=\"https://twitter.com/hashtag/kozach%D9%90?src=hash&amp;ref_src=twsrc%5Etfw\">#kozachِ</a> <a href=\"https://twitter.com/hashtag/jvomag%D9%90?src=hash&amp;ref_src=twsrc%5Etfw\">#jvomagِ</a> <a href=\"https://twitter.com/hashtag/gencsv%D9%90?src=hash&amp;ref_src=twsrc%5Etfw\">#gencsvِ</a> <a href=\"https://twitter.com/hashtag/NST_PO%D9%90?src=hash&amp;ref_src=twsrc%5Etfw\">#NST_POِ</a> <a href=\"https://twitter.com/hashtag/mvvhel%D9%90?src=hash&amp;ref_src=twsrc%5Etfw\">#mvvhelِ</a> <a href=\"https://twitter.com/hashtag/rtlln%D9%90?src=hash&amp;ref_src=twsrc%5Etfw\">#rtllnِ</a> <a href=\"https://twitter.com/hashtag/devFestBayern%D9%90?src=hash&amp;ref_src=twsrc%5Etfw\">#devFestBayernِ</a> <a href=\"https://twitter.com/hashtag/spihar%D9%90?src=hash&amp;ref_src=twsrc%5Etfw\">#spiharِ</a> <a href=\"https://twitter.com/hashtag/rvvnoo%D9%90?src=hash&amp;ref_src=twsrc%5Etfw\">#rvvnooِ</a> <a href=\"https://twitter.com/hashtag/hoeste%D9%90?src=hash&amp;ref_src=twsrc%5Etfw\">#hoesteِ</a> <a href=\"https://twitter.com/hashtag/OlimpikShakhtar%D9%90?src=hash&amp;ref_src=twsrc%5Etfw\">#OlimpikShakhtarِ</a></p>&mdash; Z~otb (@fssle8) <a href=\"https://twitter.com/fssle8/status/934510658820935680?ref_src=twsrc%5Etfw\">November 25, 2017</a></blockquote>\n",
       "<script async src=\"https://platform.twitter.com/widgets.js\" charset=\"utf-8\"></script>\n"
      ],
      "text/plain": [
       "<IPython.core.display.HTML object>"
      ]
     },
     "metadata": {},
     "output_type": "display_data"
    }
   ],
   "source": [
    "print_tweets(sorted_tweets, 5)"
   ]
  },
  {
   "cell_type": "code",
   "execution_count": 206,
   "metadata": {
    "scrolled": false,
    "slideshow": {
     "slide_type": "subslide"
    }
   },
   "outputs": [],
   "source": [
    "SPEAKERS_CREW = ['lehtimaeki', 'welsinga', 'Mariuxtheone', \n",
    "                 'svorklab', 'MarkIAllison', 'botteaap', \n",
    "                 'lc0d3r', 'jonnyzzz', 'juarezpaf',\n",
    "                \n",
    "                'nixsj', 'dezert1394', 'fssle8', 'AhooXb9052',\n",
    "                'slamah_2050']"
   ]
  },
  {
   "cell_type": "code",
   "execution_count": 207,
   "metadata": {
    "scrolled": false,
    "slideshow": {
     "slide_type": "fragment"
    }
   },
   "outputs": [],
   "source": [
    "filtered_tweets = [tweet for tweet in sorted_tweets if tweet['user'] not in SPEAKERS_CREW]"
   ]
  },
  {
   "cell_type": "code",
   "execution_count": 208,
   "metadata": {
    "scrolled": false,
    "slideshow": {
     "slide_type": "subslide"
    }
   },
   "outputs": [
    {
     "name": "stdout",
     "output_type": "stream",
     "text": [
      "22 - https://twitter.com/ferdy182/status/934368880247570432 - ferdy182:\n",
      " I love persistence talks because POJO sounds like chicken in spanish #DevFestBayern\n",
      "\n",
      "\n",
      "12 - https://twitter.com/eyring_dotcom/status/934366776019832832 - eyring_dotcom:\n",
      " I agree... You have to do, not just think about doing... #DEVFESTBAYERN pic.twitter.com/Byrzqk4KWa\n",
      "\n",
      "\n",
      "10 - https://twitter.com/nithishr/status/934424255198089217 - nithishr:\n",
      " Very fitting end to the Hitchhiker's guide to tensorflow @lc0d3r #devfestBayern #GDGpic.twitter.com/aLs9qFB4Yo\n",
      "\n",
      "\n",
      "9 - https://twitter.com/RittmeyerW/status/934364334318391297 - RittmeyerW:\n",
      " .@botteaap talking about Room at #DevFestBayern pic.twitter.com/qayoAC3dA6\n",
      "\n",
      "\n",
      "9 - https://twitter.com/suzisahne/status/934429803649826816 - suzisahne:\n",
      " Per Anhalter durch Tensorflow; Vortrag zu Maschinelles Lernen von Khomenko, Sergii @lc0d3r Heute in München bei Google Developers Group #GDG #DevFestBayern @gdgmunich @gdgpic.twitter.com/7TFM73jktG\n",
      "\n",
      "\n"
     ]
    }
   ],
   "source": [
    "print_tweets(filtered_tweets, 5, embedds=False)"
   ]
  },
  {
   "cell_type": "code",
   "execution_count": 209,
   "metadata": {
    "scrolled": false,
    "slideshow": {
     "slide_type": "skip"
    }
   },
   "outputs": [
    {
     "data": {
      "text/html": [
       "<blockquote class=\"twitter-tweet\"><p lang=\"en\" dir=\"ltr\">I love persistence talks because POJO sounds like chicken in spanish <a href=\"https://twitter.com/hashtag/DevFestBayern?src=hash&amp;ref_src=twsrc%5Etfw\">#DevFestBayern</a></p>&mdash; Fernandroid (@ferdy182) <a href=\"https://twitter.com/ferdy182/status/934368880247570432?ref_src=twsrc%5Etfw\">November 25, 2017</a></blockquote>\n",
       "<script async src=\"https://platform.twitter.com/widgets.js\" charset=\"utf-8\"></script>\n"
      ],
      "text/plain": [
       "<IPython.core.display.HTML object>"
      ]
     },
     "metadata": {},
     "output_type": "display_data"
    },
    {
     "data": {
      "text/html": [
       "<blockquote class=\"twitter-tweet\"><p lang=\"en\" dir=\"ltr\">I agree... You have to do, not just think about doing... <a href=\"https://twitter.com/hashtag/DEVFESTBAYERN?src=hash&amp;ref_src=twsrc%5Etfw\">#DEVFESTBAYERN</a> <a href=\"https://t.co/Byrzqk4KWa\">pic.twitter.com/Byrzqk4KWa</a></p>&mdash; Daniel Eyring (@eyring_dotcom) <a href=\"https://twitter.com/eyring_dotcom/status/934366776019832832?ref_src=twsrc%5Etfw\">November 25, 2017</a></blockquote>\n",
       "<script async src=\"https://platform.twitter.com/widgets.js\" charset=\"utf-8\"></script>\n"
      ],
      "text/plain": [
       "<IPython.core.display.HTML object>"
      ]
     },
     "metadata": {},
     "output_type": "display_data"
    },
    {
     "data": {
      "text/html": [
       "<blockquote class=\"twitter-tweet\"><p lang=\"en\" dir=\"ltr\">Very fitting end to the Hitchhiker&#39;s guide to tensorflow <a href=\"https://twitter.com/lc0d3r?ref_src=twsrc%5Etfw\">@lc0d3r</a> <a href=\"https://twitter.com/hashtag/devfestBayern?src=hash&amp;ref_src=twsrc%5Etfw\">#devfestBayern</a> <a href=\"https://twitter.com/hashtag/GDG?src=hash&amp;ref_src=twsrc%5Etfw\">#GDG</a> <a href=\"https://t.co/aLs9qFB4Yo\">pic.twitter.com/aLs9qFB4Yo</a></p>&mdash; Nithish R (@nithishr) <a href=\"https://twitter.com/nithishr/status/934424255198089217?ref_src=twsrc%5Etfw\">November 25, 2017</a></blockquote>\n",
       "<script async src=\"https://platform.twitter.com/widgets.js\" charset=\"utf-8\"></script>\n"
      ],
      "text/plain": [
       "<IPython.core.display.HTML object>"
      ]
     },
     "metadata": {},
     "output_type": "display_data"
    },
    {
     "data": {
      "text/html": [
       "<blockquote class=\"twitter-tweet\"><p lang=\"en\" dir=\"ltr\">.<a href=\"https://twitter.com/botteaap?ref_src=twsrc%5Etfw\">@botteaap</a> talking about Room at <a href=\"https://twitter.com/hashtag/DevFestBayern?src=hash&amp;ref_src=twsrc%5Etfw\">#DevFestBayern</a> <a href=\"https://t.co/qayoAC3dA6\">pic.twitter.com/qayoAC3dA6</a></p>&mdash; Wolfram Rittmeyer (@RittmeyerW) <a href=\"https://twitter.com/RittmeyerW/status/934364334318391297?ref_src=twsrc%5Etfw\">November 25, 2017</a></blockquote>\n",
       "<script async src=\"https://platform.twitter.com/widgets.js\" charset=\"utf-8\"></script>\n"
      ],
      "text/plain": [
       "<IPython.core.display.HTML object>"
      ]
     },
     "metadata": {},
     "output_type": "display_data"
    },
    {
     "data": {
      "text/html": [
       "<blockquote class=\"twitter-tweet\"><p lang=\"de\" dir=\"ltr\">Per Anhalter durch Tensorflow; Vortrag zu Maschinelles Lernen von Khomenko, Sergii <a href=\"https://twitter.com/lc0d3r?ref_src=twsrc%5Etfw\">@lc0d3r</a> Heute in München bei Google Developers Group <a href=\"https://twitter.com/hashtag/GDG?src=hash&amp;ref_src=twsrc%5Etfw\">#GDG</a> <a href=\"https://twitter.com/hashtag/DevFestBayern?src=hash&amp;ref_src=twsrc%5Etfw\">#DevFestBayern</a> <a href=\"https://twitter.com/gdgmunich?ref_src=twsrc%5Etfw\">@gdgmunich</a> <a href=\"https://twitter.com/gdg?ref_src=twsrc%5Etfw\">@gdg</a> <a href=\"https://t.co/7TFM73jktG\">pic.twitter.com/7TFM73jktG</a></p>&mdash; ɔıʌoʞuɐʌı ɐuɐzns 🔺 (@suzisahne) <a href=\"https://twitter.com/suzisahne/status/934429803649826816?ref_src=twsrc%5Etfw\">November 25, 2017</a></blockquote>\n",
       "<script async src=\"https://platform.twitter.com/widgets.js\" charset=\"utf-8\"></script>\n"
      ],
      "text/plain": [
       "<IPython.core.display.HTML object>"
      ]
     },
     "metadata": {},
     "output_type": "display_data"
    }
   ],
   "source": [
    "print_tweets(filtered_tweets, 5, embedds=True)"
   ]
  },
  {
   "cell_type": "markdown",
   "metadata": {
    "slideshow": {
     "slide_type": "slide"
    }
   },
   "source": [
    "## Top Tweets\n",
    "besides the crew and our lovely speakers"
   ]
  },
  {
   "cell_type": "code",
   "execution_count": 210,
   "metadata": {
    "scrolled": false,
    "slideshow": {
     "slide_type": "subslide"
    }
   },
   "outputs": [
    {
     "data": {
      "text/html": [
       "<blockquote class=\"twitter-tweet\"><p lang=\"en\" dir=\"ltr\">I love persistence talks because POJO sounds like chicken in spanish <a href=\"https://twitter.com/hashtag/DevFestBayern?src=hash&amp;ref_src=twsrc%5Etfw\">#DevFestBayern</a></p>&mdash; Fernandroid (@ferdy182) <a href=\"https://twitter.com/ferdy182/status/934368880247570432?ref_src=twsrc%5Etfw\">November 25, 2017</a></blockquote>\n",
       "<script async src=\"https://platform.twitter.com/widgets.js\" charset=\"utf-8\"></script>\n"
      ],
      "text/plain": [
       "<IPython.core.display.HTML object>"
      ]
     },
     "metadata": {},
     "output_type": "display_data"
    }
   ],
   "source": [
    "print_tweets(filtered_tweets, top_n=1, embedds=True)"
   ]
  },
  {
   "cell_type": "code",
   "execution_count": 211,
   "metadata": {
    "scrolled": false,
    "slideshow": {
     "slide_type": "subslide"
    }
   },
   "outputs": [
    {
     "data": {
      "text/html": [
       "<blockquote class=\"twitter-tweet\"><p lang=\"en\" dir=\"ltr\">I agree... You have to do, not just think about doing... <a href=\"https://twitter.com/hashtag/DEVFESTBAYERN?src=hash&amp;ref_src=twsrc%5Etfw\">#DEVFESTBAYERN</a> <a href=\"https://t.co/Byrzqk4KWa\">pic.twitter.com/Byrzqk4KWa</a></p>&mdash; Daniel Eyring (@eyring_dotcom) <a href=\"https://twitter.com/eyring_dotcom/status/934366776019832832?ref_src=twsrc%5Etfw\">November 25, 2017</a></blockquote>\n",
       "<script async src=\"https://platform.twitter.com/widgets.js\" charset=\"utf-8\"></script>\n"
      ],
      "text/plain": [
       "<IPython.core.display.HTML object>"
      ]
     },
     "metadata": {},
     "output_type": "display_data"
    }
   ],
   "source": [
    "print_tweets(filtered_tweets, top_n=1, starting=1, embedds=True)"
   ]
  }
 ],
 "metadata": {
  "celltoolbar": "Slideshow",
  "kernelspec": {
   "display_name": "Python 2",
   "language": "python",
   "name": "python2"
  },
  "language_info": {
   "codemirror_mode": {
    "name": "ipython",
    "version": 2
   },
   "file_extension": ".py",
   "mimetype": "text/x-python",
   "name": "python",
   "nbconvert_exporter": "python",
   "pygments_lexer": "ipython2",
   "version": "2.7.13"
  }
 },
 "nbformat": 4,
 "nbformat_minor": 2
}
